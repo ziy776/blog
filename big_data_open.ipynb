{
 "cells": [
  {
   "cell_type": "code",
   "execution_count": null,
   "id": "46cbad90",
   "metadata": {},
   "outputs": [],
   "source": [
    "# How to open a big (10G+) csv data file in Python?"
   ]
  },
  {
   "cell_type": "code",
   "execution_count": null,
   "id": "deecc4b6",
   "metadata": {},
   "outputs": [],
   "source": [
    "# Method 1:\n",
    "f = open(csv_file, 'r')\n",
    "print(f.read(1000))\n",
    "# read first 1000 strings"
   ]
  },
  {
   "cell_type": "code",
   "execution_count": null,
   "id": "2834ee1b",
   "metadata": {},
   "outputs": [],
   "source": [
    "# Method 2:\n",
    "with open(csv_file, 'r') as f:\n",
    "    reader = csv.reader(f)\n",
    "    for row in reader:\n",
    "        print(row)\n",
    "# read all data, can add some operation"
   ]
  }
 ],
 "metadata": {
  "kernelspec": {
   "display_name": "Python 3 (ipykernel)",
   "language": "python",
   "name": "python3"
  },
  "language_info": {
   "codemirror_mode": {
    "name": "ipython",
    "version": 3
   },
   "file_extension": ".py",
   "mimetype": "text/x-python",
   "name": "python",
   "nbconvert_exporter": "python",
   "pygments_lexer": "ipython3",
   "version": "3.9.7"
  }
 },
 "nbformat": 4,
 "nbformat_minor": 5
}
